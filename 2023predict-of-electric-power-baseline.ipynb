{
  "cells": [
    {
      "cell_type": "markdown",
      "source": [
        "# Data manipulation\n",
        "includes importing the data and feature engineering"
      ],
      "metadata": {
        "id": "82Ta13bpPaWe"
      }
    },
    {
      "cell_type": "code",
      "execution_count": 1,
      "metadata": {
        "_cell_guid": "b1076dfc-b9ad-4769-8c92-a6c4dae69d19",
        "_uuid": "8f2839f25d086af736a60e9eeb907d3b93b6e0e5",
        "execution": {
          "iopub.execute_input": "2023-10-03T14:30:04.545342Z",
          "iopub.status.busy": "2023-10-03T14:30:04.544551Z",
          "iopub.status.idle": "2023-10-03T14:30:04.550390Z",
          "shell.execute_reply": "2023-10-03T14:30:04.549132Z",
          "shell.execute_reply.started": "2023-10-03T14:30:04.545302Z"
        },
        "id": "us9UYG1E1MZv",
        "trusted": true
      },
      "outputs": [],
      "source": [
        "#Library for importing csv files\n",
        "import pandas as pd\n",
        "#Library for matrix operations\n",
        "import numpy as np\n",
        "#Set random seeds to ensure that the model can be reproduced\n",
        "import random\n",
        "np.random.seed(2023)\n",
        "random.seed(2023)"
      ]
    },
    {
      "cell_type": "markdown",
      "source": [
        "## importing training data and test data"
      ],
      "metadata": {
        "id": "q1NofqdGQGC5"
      }
    },
    {
      "cell_type": "code",
      "execution_count": 2,
      "metadata": {
        "colab": {
          "base_uri": "https://localhost:8080/"
        },
        "execution": {
          "iopub.execute_input": "2023-10-03T14:30:04.556580Z",
          "iopub.status.busy": "2023-10-03T14:30:04.555843Z",
          "iopub.status.idle": "2023-10-03T14:30:05.017935Z",
          "shell.execute_reply": "2023-10-03T14:30:05.016306Z",
          "shell.execute_reply.started": "2023-10-03T14:30:04.556545Z"
        },
        "id": "olNTK4Ep1MZx",
        "outputId": "0ca6151f-b2fb-4954-bd9a-7e466383da67",
        "trusted": true
      },
      "outputs": [
        {
          "output_type": "stream",
          "name": "stdout",
          "text": [
            "len(train_df):329304\n",
            "len(test_df):17136\n"
          ]
        }
      ],
      "source": [
        "# importing data which is in .csv format\n",
        "train_df=pd.read_csv(\"train_df.csv\")\n",
        "print(f\"len(train_df):{len(train_df)}\")\n",
        "test_df=pd.read_csv(\"test_df.csv\")\n",
        "print(f\"len(test_df):{len(test_df)}\")"
      ]
    },
    {
      "cell_type": "code",
      "source": [
        "# concatinating the training and test data frames for futher data manipulation\n",
        "total_df=pd.concat((train_df,test_df),axis=0)\n",
        "# dropping f1 and f2 columns in the dataset since it is not informative\n",
        "total_df.drop([\"f1\",\"f2\"], axis=1,inplace= True)"
      ],
      "metadata": {
        "id": "S4VAcBpKQrie"
      },
      "execution_count": 3,
      "outputs": []
    },
    {
      "cell_type": "code",
      "source": [
        "total_df.info()"
      ],
      "metadata": {
        "colab": {
          "base_uri": "https://localhost:8080/"
        },
        "id": "r-Oq8qXaU3M8",
        "outputId": "05c804c0-d41c-4285-8e40-6eb720d4f51e"
      },
      "execution_count": 4,
      "outputs": [
        {
          "output_type": "stream",
          "name": "stdout",
          "text": [
            "<class 'pandas.core.frame.DataFrame'>\n",
            "Int64Index: 346440 entries, 0 to 17135\n",
            "Data columns (total 8 columns):\n",
            " #   Column        Non-Null Count   Dtype  \n",
            "---  ------        --------------   -----  \n",
            " 0   id            346440 non-null  int64  \n",
            " 1   id_encode     346440 non-null  int64  \n",
            " 2   hour          346440 non-null  int64  \n",
            " 3   parking_free  346440 non-null  int64  \n",
            " 4   year          346440 non-null  int64  \n",
            " 5   month         346440 non-null  int64  \n",
            " 6   day           346440 non-null  int64  \n",
            " 7   power         329304 non-null  float64\n",
            "dtypes: float64(1), int64(7)\n",
            "memory usage: 23.8 MB\n"
          ]
        }
      ]
    },
    {
      "cell_type": "code",
      "source": [
        "#forward_fill: Missing values ​​are filled according to the previous value\n",
        "total_df.fillna(method='ffill', inplace=True)\n",
        "total_df['ds']=pd.to_datetime(total_df[['year','month','day','hour']])\n",
        "total_df[\"Day sin\"] = np.sin(total_df[\"day\"]*(2*np.pi / 30))\n",
        "total_df[\"Day cos\"] = np.cos(total_df[\"day\"]*(2*np.pi / 30))\n",
        "total_df['sin month']=np.sin(2*np.pi*total_df['month']/12)\n",
        "total_df['cos month']=np.cos(2*np.pi*total_df['month']/12)\n",
        "total_df['sin_hour']=np.sin(2*np.pi*total_df['hour']/24)\n",
        "total_df['cos_hour']=np.cos(2*np.pi*total_df['hour']/24)\n",
        "total_df.drop(columns= [\"day\", \"month\",\"hour\"], axis=1, inplace=True)"
      ],
      "metadata": {
        "id": "mkL5NuUDVH_q"
      },
      "execution_count": 5,
      "outputs": []
    },
    {
      "cell_type": "code",
      "source": [
        "total_df.info()"
      ],
      "metadata": {
        "colab": {
          "base_uri": "https://localhost:8080/"
        },
        "id": "xwM13c1LcxYG",
        "outputId": "114f9240-ef5f-4195-876b-436230350079"
      },
      "execution_count": 24,
      "outputs": [
        {
          "output_type": "stream",
          "name": "stdout",
          "text": [
            "<class 'pandas.core.frame.DataFrame'>\n",
            "Int64Index: 346440 entries, 0 to 17135\n",
            "Data columns (total 12 columns):\n",
            " #   Column        Non-Null Count   Dtype         \n",
            "---  ------        --------------   -----         \n",
            " 0   id            346440 non-null  int64         \n",
            " 1   id_encode     346440 non-null  int64         \n",
            " 2   parking_free  346440 non-null  int64         \n",
            " 3   year          346440 non-null  int64         \n",
            " 4   power         346440 non-null  float64       \n",
            " 5   ds            346440 non-null  datetime64[ns]\n",
            " 6   Day sin       346440 non-null  float64       \n",
            " 7   Day cos       346440 non-null  float64       \n",
            " 8   sin month     346440 non-null  float64       \n",
            " 9   cos month     346440 non-null  float64       \n",
            " 10  sin_hour      346440 non-null  float64       \n",
            " 11  cos_hour      346440 non-null  float64       \n",
            "dtypes: datetime64[ns](1), float64(7), int64(4)\n",
            "memory usage: 34.4 MB\n"
          ]
        }
      ]
    },
    {
      "cell_type": "code",
      "source": [
        "total_df.drop(columns=[\"id\", \"year\", \"ds\", \"parking_free\"], inplace= True)\n",
        "total_df.info()"
      ],
      "metadata": {
        "colab": {
          "base_uri": "https://localhost:8080/"
        },
        "id": "6QyLnGHefIDZ",
        "outputId": "3ce4c43a-b9ae-459d-f4ff-f8f244d2002f"
      },
      "execution_count": 25,
      "outputs": [
        {
          "output_type": "stream",
          "name": "stdout",
          "text": [
            "<class 'pandas.core.frame.DataFrame'>\n",
            "Int64Index: 346440 entries, 0 to 17135\n",
            "Data columns (total 8 columns):\n",
            " #   Column     Non-Null Count   Dtype  \n",
            "---  ------     --------------   -----  \n",
            " 0   id_encode  346440 non-null  int64  \n",
            " 1   power      346440 non-null  float64\n",
            " 2   Day sin    346440 non-null  float64\n",
            " 3   Day cos    346440 non-null  float64\n",
            " 4   sin month  346440 non-null  float64\n",
            " 5   cos month  346440 non-null  float64\n",
            " 6   sin_hour   346440 non-null  float64\n",
            " 7   cos_hour   346440 non-null  float64\n",
            "dtypes: float64(7), int64(1)\n",
            "memory usage: 23.8 MB\n"
          ]
        }
      ]
    },
    {
      "cell_type": "markdown",
      "source": [
        "## normalizing the power column\n",
        "Normalizing using the Standard Deviation Normalization method"
      ],
      "metadata": {
        "id": "7QU807vphf2E"
      }
    },
    {
      "cell_type": "code",
      "source": [
        "total_df[\"power\"] = (total_df[\"power\"] - total_df[\"power\"].mean()) / total_df[\"power\"].std()"
      ],
      "metadata": {
        "id": "zVGRekT8fuqf"
      },
      "execution_count": 35,
      "outputs": []
    },
    {
      "cell_type": "code",
      "source": [
        "((total_df[\"power\"] - total_df[\"power\"].mean()) / total_df[\"power\"].std()).mean()"
      ],
      "metadata": {
        "colab": {
          "base_uri": "https://localhost:8080/"
        },
        "id": "aRDsSnI9gSiN",
        "outputId": "753967b5-96f0-4d59-f205-245726222e4c"
      },
      "execution_count": 37,
      "outputs": [
        {
          "output_type": "execute_result",
          "data": {
            "text/plain": [
              "-3.675362494175325e-17"
            ]
          },
          "metadata": {},
          "execution_count": 37
        }
      ]
    },
    {
      "cell_type": "code",
      "source": [
        "((total_df[\"power\"] - total_df[\"power\"].mean()) / total_df[\"power\"].std()).std()"
      ],
      "metadata": {
        "id": "zQ7kCSguha8x",
        "outputId": "c499f6f2-b72b-489e-b5e9-22fc76e75ac1",
        "colab": {
          "base_uri": "https://localhost:8080/"
        }
      },
      "execution_count": 38,
      "outputs": [
        {
          "output_type": "execute_result",
          "data": {
            "text/plain": [
              "1.0000000000000002"
            ]
          },
          "metadata": {},
          "execution_count": 38
        }
      ]
    },
    {
      "cell_type": "code",
      "execution_count": null,
      "metadata": {
        "execution": {
          "iopub.execute_input": "2023-10-03T14:30:05.063945Z",
          "iopub.status.busy": "2023-10-03T14:30:05.063169Z",
          "iopub.status.idle": "2023-10-03T14:30:24.362806Z",
          "shell.execute_reply": "2023-10-03T14:30:24.361796Z",
          "shell.execute_reply.started": "2023-10-03T14:30:05.063911Z"
        },
        "id": "aCxOffsM1MZy",
        "trusted": true
      },
      "outputs": [],
      "source": [
        "\n",
        "total_df['up_of_month']=(total_df['day']<=10)\n",
        "total_df['down_of_month']=(total_df['day']>20)\n",
        "total_df['morning']=(total_df['hour']>5)&(total_df['hour']<=12)\n",
        "total_df['afternoon']=(total_df['hour']>12)&(total_df['hour']<=19)\n",
        "total_df['evening']=1-total_df['morning']-total_df['afternoon']\n",
        "\n",
        "total_df['ds']=pd.to_datetime(total_df[['year','month','day','hour']])\n",
        "total_df['weekday']=total_df['ds'].dt.weekday\n",
        "total_df['sin_week']=np.sin(2*np.pi*total_df['weekday']/7)\n",
        "total_df['cos_week']=np.cos(2*np.pi*total_df['weekday']/7)\n",
        "total_df['is_friday']=(total_df['weekday']==4)\n",
        "total_df['is_weekend']=(total_df['weekday']==5)|(total_df['weekday']==6)\n",
        "total_df['day_of_year']=total_df['ds'].dt.dayofyear\n",
        "\n",
        "#GetChina's holidays\n",
        "# holiday = holidays.China()\n",
        "# total_df['ds']=pd.to_datetime(total_df[['year','month','day','hour']])\n",
        "# ds=total_df['ds'].values\n",
        "# is_holiday = [0 if holiday.get(pd.to_datetime(ds[i]))==\"None\" else 1 for i in range(len(ds))]\n",
        "# total_df['is_holiday']=is_holiday\n",
        "\n",
        "total_df['sin_hour']=np.sin(2*np.pi*total_df['hour']/24)\n",
        "total_df['cos_hour']=np.cos(2*np.pi*total_df['hour']/24)\n",
        "\n",
        "\n",
        "total_df.drop(['ds'],axis=1,inplace=True)\n",
        "total_df.head()"
      ]
    },
    {
      "cell_type": "code",
      "execution_count": null,
      "metadata": {
        "colab": {
          "base_uri": "https://localhost:8080/"
        },
        "execution": {
          "iopub.execute_input": "2023-10-03T14:30:24.365519Z",
          "iopub.status.busy": "2023-10-03T14:30:24.365127Z",
          "iopub.status.idle": "2023-10-03T14:30:28.710011Z",
          "shell.execute_reply": "2023-10-03T14:30:28.708922Z",
          "shell.execute_reply.started": "2023-10-03T14:30:24.365487Z"
        },
        "id": "7rJfoecF1MZz",
        "outputId": "56a4735c-650b-4600-f8ab-48c503cfa43b",
        "trusted": true
      },
      "outputs": [
        {
          "name": "stdout",
          "output_type": "stream",
          "text": [
            "total_feature_counts:87\n"
          ]
        }
      ],
      "source": [
        "train_df=total_df[:len(train_df)]\n",
        "keys=train_df.keys()\n",
        "for key in keys:\n",
        "    values=np.unique(train_df[key].values)#Get the value of each column\n",
        "\n",
        "    if len(values)<=500 and key!=\"power\":\n",
        "        #print(f\"key:{key},values:{values}\")\n",
        "        key_target=train_df['power'].groupby([train_df[key]]).mean()\n",
        "        keys=key_target.keys().values\n",
        "        target=key_target.values\n",
        "        key_target=pd.DataFrame({key:keys,key+\"_target_mean\":target})\n",
        "        total_df=pd.merge(total_df,key_target,on=key,how=\"left\")\n",
        "        key_target=train_df['power'].groupby([train_df[key]]).std()\n",
        "        keys=key_target.keys().values\n",
        "        target=key_target.values\n",
        "        key_target=pd.DataFrame({key:keys,key+\"_target_std\":target})\n",
        "        total_df=pd.merge(total_df,key_target,on=key,how=\"left\")\n",
        "\n",
        "#Extract all data according to 25% and 75%, low and high will be out_of_memory\n",
        "train_df=total_df[:len(train_df)]\n",
        "test_df=total_df[len(train_df):]\n",
        "del total_df\n",
        "print(f\"total_feature_counts:{len(train_df.keys().values)}\")"
      ]
    },
    {
      "cell_type": "markdown",
      "source": [
        "## Train and test Data Frames\n",
        "extracing test_df and train_df from our total_df with new features"
      ],
      "metadata": {
        "id": "d3_cIGcjiRMe"
      }
    },
    {
      "cell_type": "code",
      "source": [
        "train_df=total_df[:len(train_df)]\n",
        "test_df=total_df[len(train_df):]\n",
        "\n",
        "print(f\"train set length : {len(train_df)}\\ntest set length: {len(test_df)}\")"
      ],
      "metadata": {
        "id": "ln1389R_iuuC",
        "outputId": "65955611-92ac-4f5d-8de5-838a75ef728b",
        "colab": {
          "base_uri": "https://localhost:8080/"
        }
      },
      "execution_count": 41,
      "outputs": [
        {
          "output_type": "stream",
          "name": "stdout",
          "text": [
            "train set length : 329304\n",
            "test set length: 17136\n"
          ]
        }
      ]
    },
    {
      "cell_type": "markdown",
      "source": [
        "# Gradient Boosting Ensemble Method\n",
        "using LGBMRegressor for predictions"
      ],
      "metadata": {
        "id": "XQFzfMIXkqfN"
      }
    },
    {
      "cell_type": "code",
      "execution_count": 42,
      "metadata": {
        "execution": {
          "iopub.execute_input": "2023-10-03T14:30:28.711927Z",
          "iopub.status.busy": "2023-10-03T14:30:28.711493Z",
          "iopub.status.idle": "2023-10-03T14:30:30.529421Z",
          "shell.execute_reply": "2023-10-03T14:30:30.528233Z",
          "shell.execute_reply.started": "2023-10-03T14:30:28.711895Z"
        },
        "id": "yXd_B6oW1MZ0",
        "trusted": true
      },
      "outputs": [],
      "source": [
        "from sklearn.model_selection import KFold #Import the k-fold cross validation function in the machine learning library\n",
        "from lightgbm import LGBMRegressor #Import the integrated learning algorithm lightgbm\n",
        "def RMSE(y_true,y_pred):\n",
        "    return np.sqrt(np.mean((y_true-y_pred)**2))"
      ]
    },
    {
      "cell_type": "code",
      "execution_count": 43,
      "metadata": {
        "colab": {
          "base_uri": "https://localhost:8080/"
        },
        "execution": {
          "iopub.execute_input": "2023-10-03T14:30:30.531562Z",
          "iopub.status.busy": "2023-10-03T14:30:30.531196Z",
          "iopub.status.idle": "2023-10-03T14:53:34.219508Z",
          "shell.execute_reply": "2023-10-03T14:53:34.218379Z",
          "shell.execute_reply.started": "2023-10-03T14:30:30.531533Z"
        },
        "id": "z3f7ONYQ1MZ0",
        "outputId": "f38532e5-8ad8-4fbf-f558-0bcce121863b",
        "trusted": true
      },
      "outputs": [
        {
          "output_type": "stream",
          "name": "stdout",
          "text": [
            "start fit.\n",
            "train_RMSE:[0.33592222213011236],valid_RMSE:[0.3727839619613471]\n",
            "train_RMSE:[0.33592222213011236, 0.336151129285981],valid_RMSE:[0.3727839619613471, 0.3806150383069954]\n",
            "train_RMSE:[0.33592222213011236, 0.336151129285981, 0.3341154517277871],valid_RMSE:[0.3727839619613471, 0.3806150383069954, 0.390590581695016]\n",
            "train_RMSE:[0.33592222213011236, 0.336151129285981, 0.3341154517277871, 0.33491177185448423],valid_RMSE:[0.3727839619613471, 0.3806150383069954, 0.390590581695016, 0.37962485949120683]\n",
            "train_RMSE:[0.33592222213011236, 0.336151129285981, 0.3341154517277871, 0.33491177185448423, 0.335887951844205],valid_RMSE:[0.3727839619613471, 0.3806150383069954, 0.390590581695016, 0.37962485949120683, 0.3808704959248669]\n",
            "train_RMSE:[0.33592222213011236, 0.336151129285981, 0.3341154517277871, 0.33491177185448423, 0.335887951844205, 0.33642484651616344],valid_RMSE:[0.3727839619613471, 0.3806150383069954, 0.390590581695016, 0.37962485949120683, 0.3808704959248669, 0.3759295829638036]\n",
            "train_RMSE:[0.33592222213011236, 0.336151129285981, 0.3341154517277871, 0.33491177185448423, 0.335887951844205, 0.33642484651616344, 0.33522848729399124],valid_RMSE:[0.3727839619613471, 0.3806150383069954, 0.390590581695016, 0.37962485949120683, 0.3808704959248669, 0.3759295829638036, 0.3816952359965918]\n",
            "train_RMSE:[0.33592222213011236, 0.336151129285981, 0.3341154517277871, 0.33491177185448423, 0.335887951844205, 0.33642484651616344, 0.33522848729399124, 0.33683007009912685],valid_RMSE:[0.3727839619613471, 0.3806150383069954, 0.390590581695016, 0.37962485949120683, 0.3808704959248669, 0.3759295829638036, 0.3816952359965918, 0.3800012382450714]\n",
            "train_RMSE:[0.33592222213011236, 0.336151129285981, 0.3341154517277871, 0.33491177185448423, 0.335887951844205, 0.33642484651616344, 0.33522848729399124, 0.33683007009912685, 0.33647041671985967],valid_RMSE:[0.3727839619613471, 0.3806150383069954, 0.390590581695016, 0.37962485949120683, 0.3808704959248669, 0.3759295829638036, 0.3816952359965918, 0.3800012382450714, 0.3780898103987373]\n",
            "train_RMSE:[0.33592222213011236, 0.336151129285981, 0.3341154517277871, 0.33491177185448423, 0.335887951844205, 0.33642484651616344, 0.33522848729399124, 0.33683007009912685, 0.33647041671985967, 0.33636247277344694],valid_RMSE:[0.3727839619613471, 0.3806150383069954, 0.390590581695016, 0.37962485949120683, 0.3808704959248669, 0.3759295829638036, 0.3816952359965918, 0.3800012382450714, 0.3780898103987373, 0.3805996019917169]\n",
            "mean_train_RMSE:0.3358304820245158\n",
            "mean_valid_RMSE:0.3800800406975353\n"
          ]
        }
      ],
      "source": [
        "print(\"start fit.\")\n",
        "folds = 10 #Divide the data into 10 parts\n",
        "y=train_df['power']\n",
        "X=train_df.drop(['power'],axis=1)\n",
        "\n",
        "train_RMSE=[]\n",
        "valid_RMSE=[]\n",
        "# Store the list of learned models\n",
        "models = []\n",
        "\n",
        "#Shuffle the data set randomly and divide it into folds\n",
        "kf = KFold(n_splits=folds, shuffle=True, random_state=2023)\n",
        "\n",
        "#Divide x_train into a training set and a verification set in a ratio of 9:1, and take out the subscripts\n",
        "for train_index, valid_index in kf.split(X):\n",
        "\n",
        "    #Get the data of the training set and validation set based on the subscripts\n",
        "    x_train_cv = X.iloc[train_index]\n",
        "    y_train_cv = y.iloc[train_index]\n",
        "    x_valid_cv =X.iloc[valid_index]\n",
        "    y_valid_cv = y.iloc[valid_index]\n",
        "\n",
        "    #Call the LightGBM regression model and add parameters\n",
        "    model = LGBMRegressor(colsample_bytree=0.6503468706312049,\n",
        "              learning_rate=0.020010277043886332, max_bin=127,\n",
        "              min_child_samples=8, n_estimators=1001,\n",
        "              early_stopping_rounds = 100, #If the accuracy has not improved after training for 100 times, stop training.\n",
        "              num_leaves=402,reg_alpha=0.01631050699150689,\n",
        "              reg_lambda=0.01300300057057842,verbose=-1)\n",
        "\n",
        "\n",
        "    #Use x_train_cv to train the model, and use x_train_cv and x_valid_cv to evaluate together\n",
        "    model.fit(\n",
        "        x_train_cv,\n",
        "        y_train_cv,\n",
        "        eval_set = [(x_train_cv, y_train_cv), (x_valid_cv, y_valid_cv)],\n",
        "        #verbose = 100, #Iterate 100 times and output a result\n",
        "    )\n",
        "\n",
        "    #Predict the training set\n",
        "    y_pred_train = model.predict(x_train_cv, num_iteration=model.best_iteration_)\n",
        "    #Predict on the validation set\n",
        "    y_pred_valid = model.predict(x_valid_cv, num_iteration=model.best_iteration_)\n",
        "\n",
        "    train_rmse=RMSE(y_pred_train,y_train_cv)\n",
        "    valid_rmse=RMSE(y_pred_valid,y_valid_cv)\n",
        "\n",
        "    train_RMSE.append(train_rmse)\n",
        "    valid_RMSE.append(valid_rmse)\n",
        "    #Save model into list\n",
        "    models.append(model)\n",
        "    print(f\"train_RMSE:{train_RMSE},valid_RMSE:{valid_RMSE}\")\n",
        "\n",
        "train_RMSE=np.array(train_RMSE)\n",
        "valid_RMSE=np.array(valid_RMSE)\n",
        "\n",
        "print(f\"mean_train_RMSE:{np.mean(train_RMSE)}\")\n",
        "print(f\"mean_valid_RMSE:{np.mean(valid_RMSE)}\")"
      ]
    },
    {
      "cell_type": "code",
      "execution_count": null,
      "metadata": {
        "colab": {
          "base_uri": "https://localhost:8080/"
        },
        "execution": {
          "iopub.execute_input": "2023-10-03T14:53:34.223277Z",
          "iopub.status.busy": "2023-10-03T14:53:34.220831Z",
          "iopub.status.idle": "2023-10-03T14:53:42.156365Z",
          "shell.execute_reply": "2023-10-03T14:53:42.155235Z",
          "shell.execute_reply.started": "2023-10-03T14:53:34.223230Z"
        },
        "id": "BgFmECi01MZ1",
        "outputId": "4cc3c4e2-e32d-40f9-e2b1-db8f4cb6fe89",
        "trusted": true
      },
      "outputs": [
        {
          "data": {
            "text/plain": [
              "array([0.00000000e+00, 4.55014405e-01, 6.24000967e+00, 7.20728026e+00,\n",
              "       6.18965131e-01, 4.17385249e-01, 2.34421971e+00, 3.58776790e+00,\n",
              "       2.72461383e+00, 3.70978294e+00, 4.83750517e+00, 5.75435185e+00,\n",
              "       9.30031335e+00, 7.65141756e+00, 8.54818668e+00, 1.34758436e+01,\n",
              "       6.59925831e+01, 2.31452822e+02, 4.23995150e+02, 5.73849239e+02,\n",
              "       3.52254583e+02, 1.60894171e+02, 1.51045073e+01, 0.00000000e+00,\n",
              "       0.00000000e+00, 0.00000000e+00, 2.15682547e-01, 7.19736897e-01,\n",
              "       0.00000000e+00, 0.00000000e+00, 3.93235257e-03, 1.15068104e+00,\n",
              "       5.65058446e-01, 2.18732613e+00, 2.88797286e+00, 5.30516938e+00,\n",
              "       8.76200833e-01, 5.95387748e+00, 9.68250408e+00, 7.77868637e+00,\n",
              "       5.29908599e+01, 2.25671497e+02, 4.02227661e+02, 5.75869684e+02,\n",
              "       3.83619157e+02, 1.91170755e+02, 2.57700688e+01, 0.00000000e+00,\n",
              "       0.00000000e+00, 0.00000000e+00])"
            ]
          },
          "execution_count": 12,
          "metadata": {},
          "output_type": "execute_result"
        }
      ],
      "source": [
        "test_X=test_df.drop(['power'],axis=1).values\n",
        "#Use each saved model to predict x_test once, and then take the average\n",
        "preds_test = []\n",
        "\n",
        "for model in models:\n",
        "\n",
        "    pred = model.predict(test_X, num_iteration=model.best_iteration_)\n",
        "\n",
        "    preds_test.append(pred)\n",
        "\n",
        "#Convert the prediction results into np.array\n",
        "preds_test_np = np.array(preds_test)\n",
        "#Average the prediction results of each model by column\n",
        "test_pred= preds_test_np.mean(axis=0)\n",
        "test_pred=np.where(test_pred<=0,0,test_pred)\n",
        "test_pred[:50]"
      ]
    },
    {
      "cell_type": "code",
      "execution_count": null,
      "metadata": {
        "colab": {
          "base_uri": "https://localhost:8080/",
          "height": 206
        },
        "execution": {
          "iopub.execute_input": "2023-10-03T14:53:42.158252Z",
          "iopub.status.busy": "2023-10-03T14:53:42.157836Z",
          "iopub.status.idle": "2023-10-03T14:53:42.230039Z",
          "shell.execute_reply": "2023-10-03T14:53:42.228945Z",
          "shell.execute_reply.started": "2023-10-03T14:53:42.158214Z"
        },
        "id": "1-Art-s01MZ1",
        "outputId": "ff354889-ac9d-4eaa-c528-76ce2373d8df",
        "trusted": true
      },
      "outputs": [
        {
          "data": {
            "text/html": [
              "\n",
              "  <div id=\"df-9aee7097-88be-4814-9027-db04a6fb090c\" class=\"colab-df-container\">\n",
              "    <div>\n",
              "<style scoped>\n",
              "    .dataframe tbody tr th:only-of-type {\n",
              "        vertical-align: middle;\n",
              "    }\n",
              "\n",
              "    .dataframe tbody tr th {\n",
              "        vertical-align: top;\n",
              "    }\n",
              "\n",
              "    .dataframe thead th {\n",
              "        text-align: right;\n",
              "    }\n",
              "</style>\n",
              "<table border=\"1\" class=\"dataframe\">\n",
              "  <thead>\n",
              "    <tr style=\"text-align: right;\">\n",
              "      <th></th>\n",
              "      <th>id</th>\n",
              "      <th>power</th>\n",
              "    </tr>\n",
              "  </thead>\n",
              "  <tbody>\n",
              "    <tr>\n",
              "      <th>0</th>\n",
              "      <td>8401</td>\n",
              "      <td>0.000000</td>\n",
              "    </tr>\n",
              "    <tr>\n",
              "      <th>1</th>\n",
              "      <td>8402</td>\n",
              "      <td>0.455014</td>\n",
              "    </tr>\n",
              "    <tr>\n",
              "      <th>2</th>\n",
              "      <td>8403</td>\n",
              "      <td>6.240010</td>\n",
              "    </tr>\n",
              "    <tr>\n",
              "      <th>3</th>\n",
              "      <td>8404</td>\n",
              "      <td>7.207280</td>\n",
              "    </tr>\n",
              "    <tr>\n",
              "      <th>4</th>\n",
              "      <td>8405</td>\n",
              "      <td>0.618965</td>\n",
              "    </tr>\n",
              "  </tbody>\n",
              "</table>\n",
              "</div>\n",
              "    <div class=\"colab-df-buttons\">\n",
              "\n",
              "  <div class=\"colab-df-container\">\n",
              "    <button class=\"colab-df-convert\" onclick=\"convertToInteractive('df-9aee7097-88be-4814-9027-db04a6fb090c')\"\n",
              "            title=\"Convert this dataframe to an interactive table.\"\n",
              "            style=\"display:none;\">\n",
              "\n",
              "  <svg xmlns=\"http://www.w3.org/2000/svg\" height=\"24px\" viewBox=\"0 -960 960 960\">\n",
              "    <path d=\"M120-120v-720h720v720H120Zm60-500h600v-160H180v160Zm220 220h160v-160H400v160Zm0 220h160v-160H400v160ZM180-400h160v-160H180v160Zm440 0h160v-160H620v160ZM180-180h160v-160H180v160Zm440 0h160v-160H620v160Z\"/>\n",
              "  </svg>\n",
              "    </button>\n",
              "\n",
              "  <style>\n",
              "    .colab-df-container {\n",
              "      display:flex;\n",
              "      gap: 12px;\n",
              "    }\n",
              "\n",
              "    .colab-df-convert {\n",
              "      background-color: #E8F0FE;\n",
              "      border: none;\n",
              "      border-radius: 50%;\n",
              "      cursor: pointer;\n",
              "      display: none;\n",
              "      fill: #1967D2;\n",
              "      height: 32px;\n",
              "      padding: 0 0 0 0;\n",
              "      width: 32px;\n",
              "    }\n",
              "\n",
              "    .colab-df-convert:hover {\n",
              "      background-color: #E2EBFA;\n",
              "      box-shadow: 0px 1px 2px rgba(60, 64, 67, 0.3), 0px 1px 3px 1px rgba(60, 64, 67, 0.15);\n",
              "      fill: #174EA6;\n",
              "    }\n",
              "\n",
              "    .colab-df-buttons div {\n",
              "      margin-bottom: 4px;\n",
              "    }\n",
              "\n",
              "    [theme=dark] .colab-df-convert {\n",
              "      background-color: #3B4455;\n",
              "      fill: #D2E3FC;\n",
              "    }\n",
              "\n",
              "    [theme=dark] .colab-df-convert:hover {\n",
              "      background-color: #434B5C;\n",
              "      box-shadow: 0px 1px 3px 1px rgba(0, 0, 0, 0.15);\n",
              "      filter: drop-shadow(0px 1px 2px rgba(0, 0, 0, 0.3));\n",
              "      fill: #FFFFFF;\n",
              "    }\n",
              "  </style>\n",
              "\n",
              "    <script>\n",
              "      const buttonEl =\n",
              "        document.querySelector('#df-9aee7097-88be-4814-9027-db04a6fb090c button.colab-df-convert');\n",
              "      buttonEl.style.display =\n",
              "        google.colab.kernel.accessAllowed ? 'block' : 'none';\n",
              "\n",
              "      async function convertToInteractive(key) {\n",
              "        const element = document.querySelector('#df-9aee7097-88be-4814-9027-db04a6fb090c');\n",
              "        const dataTable =\n",
              "          await google.colab.kernel.invokeFunction('convertToInteractive',\n",
              "                                                    [key], {});\n",
              "        if (!dataTable) return;\n",
              "\n",
              "        const docLinkHtml = 'Like what you see? Visit the ' +\n",
              "          '<a target=\"_blank\" href=https://colab.research.google.com/notebooks/data_table.ipynb>data table notebook</a>'\n",
              "          + ' to learn more about interactive tables.';\n",
              "        element.innerHTML = '';\n",
              "        dataTable['output_type'] = 'display_data';\n",
              "        await google.colab.output.renderOutput(dataTable, element);\n",
              "        const docLink = document.createElement('div');\n",
              "        docLink.innerHTML = docLinkHtml;\n",
              "        element.appendChild(docLink);\n",
              "      }\n",
              "    </script>\n",
              "  </div>\n",
              "\n",
              "\n",
              "<div id=\"df-70326542-e575-4ebe-a121-6646e3590bb6\">\n",
              "  <button class=\"colab-df-quickchart\" onclick=\"quickchart('df-70326542-e575-4ebe-a121-6646e3590bb6')\"\n",
              "            title=\"Suggest charts.\"\n",
              "            style=\"display:none;\">\n",
              "\n",
              "<svg xmlns=\"http://www.w3.org/2000/svg\" height=\"24px\"viewBox=\"0 0 24 24\"\n",
              "     width=\"24px\">\n",
              "    <g>\n",
              "        <path d=\"M19 3H5c-1.1 0-2 .9-2 2v14c0 1.1.9 2 2 2h14c1.1 0 2-.9 2-2V5c0-1.1-.9-2-2-2zM9 17H7v-7h2v7zm4 0h-2V7h2v10zm4 0h-2v-4h2v4z\"/>\n",
              "    </g>\n",
              "</svg>\n",
              "  </button>\n",
              "\n",
              "<style>\n",
              "  .colab-df-quickchart {\n",
              "      --bg-color: #E8F0FE;\n",
              "      --fill-color: #1967D2;\n",
              "      --hover-bg-color: #E2EBFA;\n",
              "      --hover-fill-color: #174EA6;\n",
              "      --disabled-fill-color: #AAA;\n",
              "      --disabled-bg-color: #DDD;\n",
              "  }\n",
              "\n",
              "  [theme=dark] .colab-df-quickchart {\n",
              "      --bg-color: #3B4455;\n",
              "      --fill-color: #D2E3FC;\n",
              "      --hover-bg-color: #434B5C;\n",
              "      --hover-fill-color: #FFFFFF;\n",
              "      --disabled-bg-color: #3B4455;\n",
              "      --disabled-fill-color: #666;\n",
              "  }\n",
              "\n",
              "  .colab-df-quickchart {\n",
              "    background-color: var(--bg-color);\n",
              "    border: none;\n",
              "    border-radius: 50%;\n",
              "    cursor: pointer;\n",
              "    display: none;\n",
              "    fill: var(--fill-color);\n",
              "    height: 32px;\n",
              "    padding: 0;\n",
              "    width: 32px;\n",
              "  }\n",
              "\n",
              "  .colab-df-quickchart:hover {\n",
              "    background-color: var(--hover-bg-color);\n",
              "    box-shadow: 0 1px 2px rgba(60, 64, 67, 0.3), 0 1px 3px 1px rgba(60, 64, 67, 0.15);\n",
              "    fill: var(--button-hover-fill-color);\n",
              "  }\n",
              "\n",
              "  .colab-df-quickchart-complete:disabled,\n",
              "  .colab-df-quickchart-complete:disabled:hover {\n",
              "    background-color: var(--disabled-bg-color);\n",
              "    fill: var(--disabled-fill-color);\n",
              "    box-shadow: none;\n",
              "  }\n",
              "\n",
              "  .colab-df-spinner {\n",
              "    border: 2px solid var(--fill-color);\n",
              "    border-color: transparent;\n",
              "    border-bottom-color: var(--fill-color);\n",
              "    animation:\n",
              "      spin 1s steps(1) infinite;\n",
              "  }\n",
              "\n",
              "  @keyframes spin {\n",
              "    0% {\n",
              "      border-color: transparent;\n",
              "      border-bottom-color: var(--fill-color);\n",
              "      border-left-color: var(--fill-color);\n",
              "    }\n",
              "    20% {\n",
              "      border-color: transparent;\n",
              "      border-left-color: var(--fill-color);\n",
              "      border-top-color: var(--fill-color);\n",
              "    }\n",
              "    30% {\n",
              "      border-color: transparent;\n",
              "      border-left-color: var(--fill-color);\n",
              "      border-top-color: var(--fill-color);\n",
              "      border-right-color: var(--fill-color);\n",
              "    }\n",
              "    40% {\n",
              "      border-color: transparent;\n",
              "      border-right-color: var(--fill-color);\n",
              "      border-top-color: var(--fill-color);\n",
              "    }\n",
              "    60% {\n",
              "      border-color: transparent;\n",
              "      border-right-color: var(--fill-color);\n",
              "    }\n",
              "    80% {\n",
              "      border-color: transparent;\n",
              "      border-right-color: var(--fill-color);\n",
              "      border-bottom-color: var(--fill-color);\n",
              "    }\n",
              "    90% {\n",
              "      border-color: transparent;\n",
              "      border-bottom-color: var(--fill-color);\n",
              "    }\n",
              "  }\n",
              "</style>\n",
              "\n",
              "  <script>\n",
              "    async function quickchart(key) {\n",
              "      const quickchartButtonEl =\n",
              "        document.querySelector('#' + key + ' button');\n",
              "      quickchartButtonEl.disabled = true;  // To prevent multiple clicks.\n",
              "      quickchartButtonEl.classList.add('colab-df-spinner');\n",
              "      try {\n",
              "        const charts = await google.colab.kernel.invokeFunction(\n",
              "            'suggestCharts', [key], {});\n",
              "      } catch (error) {\n",
              "        console.error('Error during call to suggestCharts:', error);\n",
              "      }\n",
              "      quickchartButtonEl.classList.remove('colab-df-spinner');\n",
              "      quickchartButtonEl.classList.add('colab-df-quickchart-complete');\n",
              "    }\n",
              "    (() => {\n",
              "      let quickchartButtonEl =\n",
              "        document.querySelector('#df-70326542-e575-4ebe-a121-6646e3590bb6 button');\n",
              "      quickchartButtonEl.style.display =\n",
              "        google.colab.kernel.accessAllowed ? 'block' : 'none';\n",
              "    })();\n",
              "  </script>\n",
              "</div>\n",
              "    </div>\n",
              "  </div>\n"
            ],
            "text/plain": [
              "     id     power\n",
              "0  8401  0.000000\n",
              "1  8402  0.455014\n",
              "2  8403  6.240010\n",
              "3  8404  7.207280\n",
              "4  8405  0.618965"
            ]
          },
          "execution_count": 13,
          "metadata": {},
          "output_type": "execute_result"
        }
      ],
      "source": [
        "submission=pd.read_csv(\"sample_submission.csv\")\n",
        "submission['power']=test_pred\n",
        "submission.to_csv(\"baseline.csv\",index=None)\n",
        "submission.head()"
      ]
    },
    {
      "cell_type": "markdown",
      "source": [
        "# Neural Network model\n",
        "Using a Multi Layer model for predection"
      ],
      "metadata": {
        "id": "J_KLcDGBqXG1"
      }
    },
    {
      "cell_type": "code",
      "execution_count": 44,
      "metadata": {
        "id": "66Ot1pELDl8v"
      },
      "outputs": [],
      "source": [
        "import torch\n",
        "from torch.utils.data import DataLoader, TensorDataset"
      ]
    },
    {
      "cell_type": "code",
      "execution_count": null,
      "metadata": {
        "colab": {
          "base_uri": "https://localhost:8080/"
        },
        "id": "SeBbU39AN17J",
        "outputId": "ebeb8755-45d0-4fba-8428-73e7d3cafaa9"
      },
      "outputs": [
        {
          "data": {
            "text/plain": [
              "torch.Size([263160, 86])"
            ]
          },
          "execution_count": 51,
          "metadata": {},
          "output_type": "execute_result"
        }
      ],
      "source": [
        "X_train_tensor.shape"
      ]
    },
    {
      "cell_type": "code",
      "execution_count": null,
      "metadata": {
        "colab": {
          "base_uri": "https://localhost:8080/"
        },
        "id": "4isf0ZbsNV76",
        "outputId": "d29651b9-1ce4-4b47-83ca-e9c4d3c4ad1c"
      },
      "outputs": [
        {
          "data": {
            "text/plain": [
              "torch.Size([263160])"
            ]
          },
          "execution_count": 76,
          "metadata": {},
          "output_type": "execute_result"
        }
      ],
      "source": [
        "y_train_tensor.shape"
      ]
    },
    {
      "cell_type": "code",
      "execution_count": null,
      "metadata": {
        "id": "5wEwxZLgHwxR"
      },
      "outputs": [],
      "source": [
        "X_train_tensor = torch.Tensor(train_df.drop(['power'],axis=1).values.astype(np.float32))\n",
        "y_train_tensor = torch.Tensor(train_df['power'].values.astype(np.float32))\n",
        "# y_train_tensor = y_train_tensor.unsqueeze(dim=0)\n",
        "\n",
        "X_test_tensor = torch.Tensor(test_df.drop(['power'],axis=1).values.astype(np.float32))\n",
        "y_test_tensor = torch.Tensor(test_df['power'].values.astype(np.float32))\n",
        "# y_test_tensor = y_test_tensor.unsqueeze(dim=0)"
      ]
    },
    {
      "cell_type": "code",
      "execution_count": null,
      "metadata": {
        "id": "hbDd2kcyJTGU"
      },
      "outputs": [],
      "source": [
        "batch_size = 32\n",
        "\n",
        "train_dataset = TensorDataset(X_train_tensor, y_train_tensor)\n",
        "train_loader = DataLoader(train_dataset, batch_size=batch_size, shuffle=True)\n",
        "\n",
        "test_dataset = TensorDataset(X_test_tensor, y_test_tensor)\n",
        "test_loader = DataLoader(test_dataset, batch_size=batch_size, shuffle=False)"
      ]
    },
    {
      "cell_type": "code",
      "execution_count": null,
      "metadata": {
        "id": "dgKSPZGYJck3"
      },
      "outputs": [],
      "source": [
        "import torch.nn as nn\n",
        "import torch.optim as optim"
      ]
    },
    {
      "cell_type": "code",
      "execution_count": null,
      "metadata": {
        "id": "Is4BPfr0LEyU"
      },
      "outputs": [],
      "source": [
        "device = \"cpu\""
      ]
    },
    {
      "cell_type": "code",
      "execution_count": null,
      "metadata": {
        "id": "uiJHj_nZJhrs"
      },
      "outputs": [],
      "source": [
        "class RegressionModel(nn.Module):\n",
        "    def __init__(self, input_features, hidden_units, output_size):\n",
        "        super().__init__()\n",
        "        self.linear_layer_stack = nn.Sequential(\n",
        "            nn.Linear(in_features=input_features, out_features=hidden_units),\n",
        "            nn.ReLU(),\n",
        "            nn.Linear(in_features=hidden_units, out_features=hidden_units),\n",
        "            nn.ReLU(),\n",
        "            nn.Linear(in_features=hidden_units, out_features=hidden_units),\n",
        "            nn.ReLU(),\n",
        "            nn.Linear(in_features=hidden_units, out_features=output_size),\n",
        "        )\n",
        "\n",
        "    def forward(self, x):\n",
        "        return self.linear_layer_stack(x)"
      ]
    },
    {
      "cell_type": "code",
      "execution_count": null,
      "metadata": {
        "id": "uWtI_sbiKb-o"
      },
      "outputs": [],
      "source": [
        "NN_model = RegressionModel(input_features= X_train_tensor.shape[1],\n",
        "                    output_size=1,\n",
        "                    hidden_units= 32).to(device)"
      ]
    },
    {
      "cell_type": "code",
      "execution_count": null,
      "metadata": {
        "id": "9AQS2hVqLdTo"
      },
      "outputs": [],
      "source": [
        "criterion = nn.MSELoss()  # Mean Squared Error for regression\n",
        "optimizer = optim.Adam(NN_model.parameters(), lr=0.001)"
      ]
    },
    {
      "cell_type": "code",
      "execution_count": null,
      "metadata": {
        "colab": {
          "base_uri": "https://localhost:8080/"
        },
        "id": "-jR8o-42S5cI",
        "outputId": "b45776ee-2bf7-4b44-f165-76cdc0a03256"
      },
      "outputs": [
        {
          "name": "stdout",
          "output_type": "stream",
          "text": [
            "torch.Size([1, 32])\n",
            "torch.Size([32, 86])\n",
            "torch.Size([32])\n"
          ]
        }
      ],
      "source": [
        "NN_model.train()\n",
        "for inputs, targets in train_loader:\n",
        "    output = NN_model(inputs)\n",
        "    print(output.shape)\n",
        "    targets = targets.unsqueeze(dim=1)\n",
        "    print(targets.shape)\n",
        "    loss = criterion(output, targets)\n",
        "    print(loss.item())\n",
        "    break"
      ]
    },
    {
      "cell_type": "code",
      "execution_count": null,
      "metadata": {
        "colab": {
          "base_uri": "https://localhost:8080/",
          "height": 503
        },
        "id": "4xkkD3aYMCFC",
        "outputId": "a8806669-5e2a-4855-f768-89da2371cbec"
      },
      "outputs": [
        {
          "name": "stderr",
          "output_type": "stream",
          "text": [
            "/usr/local/lib/python3.10/dist-packages/torch/nn/modules/loss.py:536: UserWarning: Using a target size (torch.Size([32])) that is different to the input size (torch.Size([32, 1])). This will likely lead to incorrect results due to broadcasting. Please ensure they have the same size.\n",
            "  return F.mse_loss(input, target, reduction=self.reduction)\n",
            "/usr/local/lib/python3.10/dist-packages/torch/nn/modules/loss.py:536: UserWarning: Using a target size (torch.Size([24])) that is different to the input size (torch.Size([24, 1])). This will likely lead to incorrect results due to broadcasting. Please ensure they have the same size.\n",
            "  return F.mse_loss(input, target, reduction=self.reduction)\n"
          ]
        },
        {
          "ename": "KeyboardInterrupt",
          "evalue": "ignored",
          "output_type": "error",
          "traceback": [
            "\u001b[0;31m---------------------------------------------------------------------------\u001b[0m",
            "\u001b[0;31mKeyboardInterrupt\u001b[0m                         Traceback (most recent call last)",
            "\u001b[0;32m<ipython-input-100-fbd1c9261eb4>\u001b[0m in \u001b[0;36m<cell line: 3>\u001b[0;34m()\u001b[0m\n\u001b[1;32m      6\u001b[0m         \u001b[0mtargets\u001b[0m\u001b[0;34m.\u001b[0m\u001b[0munsqueeze\u001b[0m\u001b[0;34m(\u001b[0m\u001b[0mdim\u001b[0m\u001b[0;34m=\u001b[0m\u001b[0;36m0\u001b[0m\u001b[0;34m)\u001b[0m\u001b[0;34m\u001b[0m\u001b[0;34m\u001b[0m\u001b[0m\n\u001b[1;32m      7\u001b[0m         \u001b[0moutputs\u001b[0m \u001b[0;34m=\u001b[0m \u001b[0mNN_model\u001b[0m\u001b[0;34m(\u001b[0m\u001b[0minputs\u001b[0m\u001b[0;34m)\u001b[0m\u001b[0;34m\u001b[0m\u001b[0;34m\u001b[0m\u001b[0m\n\u001b[0;32m----> 8\u001b[0;31m         \u001b[0mloss\u001b[0m \u001b[0;34m=\u001b[0m \u001b[0mcriterion\u001b[0m\u001b[0;34m(\u001b[0m\u001b[0moutputs\u001b[0m\u001b[0;34m,\u001b[0m \u001b[0mtargets\u001b[0m\u001b[0;34m)\u001b[0m\u001b[0;34m\u001b[0m\u001b[0;34m\u001b[0m\u001b[0m\n\u001b[0m\u001b[1;32m      9\u001b[0m         \u001b[0moptimizer\u001b[0m\u001b[0;34m.\u001b[0m\u001b[0mzero_grad\u001b[0m\u001b[0;34m(\u001b[0m\u001b[0;34m)\u001b[0m\u001b[0;34m\u001b[0m\u001b[0;34m\u001b[0m\u001b[0m\n\u001b[1;32m     10\u001b[0m         \u001b[0mloss\u001b[0m\u001b[0;34m.\u001b[0m\u001b[0mbackward\u001b[0m\u001b[0;34m(\u001b[0m\u001b[0;34m)\u001b[0m\u001b[0;34m\u001b[0m\u001b[0;34m\u001b[0m\u001b[0m\n",
            "\u001b[0;32m/usr/local/lib/python3.10/dist-packages/torch/nn/modules/module.py\u001b[0m in \u001b[0;36m_call_impl\u001b[0;34m(self, *args, **kwargs)\u001b[0m\n\u001b[1;32m   1499\u001b[0m                 \u001b[0;32mor\u001b[0m \u001b[0m_global_backward_pre_hooks\u001b[0m \u001b[0;32mor\u001b[0m \u001b[0m_global_backward_hooks\u001b[0m\u001b[0;34m\u001b[0m\u001b[0;34m\u001b[0m\u001b[0m\n\u001b[1;32m   1500\u001b[0m                 or _global_forward_hooks or _global_forward_pre_hooks):\n\u001b[0;32m-> 1501\u001b[0;31m             \u001b[0;32mreturn\u001b[0m \u001b[0mforward_call\u001b[0m\u001b[0;34m(\u001b[0m\u001b[0;34m*\u001b[0m\u001b[0margs\u001b[0m\u001b[0;34m,\u001b[0m \u001b[0;34m**\u001b[0m\u001b[0mkwargs\u001b[0m\u001b[0;34m)\u001b[0m\u001b[0;34m\u001b[0m\u001b[0;34m\u001b[0m\u001b[0m\n\u001b[0m\u001b[1;32m   1502\u001b[0m         \u001b[0;31m# Do not call functions when jit is used\u001b[0m\u001b[0;34m\u001b[0m\u001b[0;34m\u001b[0m\u001b[0m\n\u001b[1;32m   1503\u001b[0m         \u001b[0mfull_backward_hooks\u001b[0m\u001b[0;34m,\u001b[0m \u001b[0mnon_full_backward_hooks\u001b[0m \u001b[0;34m=\u001b[0m \u001b[0;34m[\u001b[0m\u001b[0;34m]\u001b[0m\u001b[0;34m,\u001b[0m \u001b[0;34m[\u001b[0m\u001b[0;34m]\u001b[0m\u001b[0;34m\u001b[0m\u001b[0;34m\u001b[0m\u001b[0m\n",
            "\u001b[0;32m/usr/local/lib/python3.10/dist-packages/torch/nn/modules/loss.py\u001b[0m in \u001b[0;36mforward\u001b[0;34m(self, input, target)\u001b[0m\n\u001b[1;32m    534\u001b[0m \u001b[0;34m\u001b[0m\u001b[0m\n\u001b[1;32m    535\u001b[0m     \u001b[0;32mdef\u001b[0m \u001b[0mforward\u001b[0m\u001b[0;34m(\u001b[0m\u001b[0mself\u001b[0m\u001b[0;34m,\u001b[0m \u001b[0minput\u001b[0m\u001b[0;34m:\u001b[0m \u001b[0mTensor\u001b[0m\u001b[0;34m,\u001b[0m \u001b[0mtarget\u001b[0m\u001b[0;34m:\u001b[0m \u001b[0mTensor\u001b[0m\u001b[0;34m)\u001b[0m \u001b[0;34m->\u001b[0m \u001b[0mTensor\u001b[0m\u001b[0;34m:\u001b[0m\u001b[0;34m\u001b[0m\u001b[0;34m\u001b[0m\u001b[0m\n\u001b[0;32m--> 536\u001b[0;31m         \u001b[0;32mreturn\u001b[0m \u001b[0mF\u001b[0m\u001b[0;34m.\u001b[0m\u001b[0mmse_loss\u001b[0m\u001b[0;34m(\u001b[0m\u001b[0minput\u001b[0m\u001b[0;34m,\u001b[0m \u001b[0mtarget\u001b[0m\u001b[0;34m,\u001b[0m \u001b[0mreduction\u001b[0m\u001b[0;34m=\u001b[0m\u001b[0mself\u001b[0m\u001b[0;34m.\u001b[0m\u001b[0mreduction\u001b[0m\u001b[0;34m)\u001b[0m\u001b[0;34m\u001b[0m\u001b[0;34m\u001b[0m\u001b[0m\n\u001b[0m\u001b[1;32m    537\u001b[0m \u001b[0;34m\u001b[0m\u001b[0m\n\u001b[1;32m    538\u001b[0m \u001b[0;34m\u001b[0m\u001b[0m\n",
            "\u001b[0;32m/usr/local/lib/python3.10/dist-packages/torch/nn/functional.py\u001b[0m in \u001b[0;36mmse_loss\u001b[0;34m(input, target, size_average, reduce, reduction)\u001b[0m\n\u001b[1;32m   3292\u001b[0m         \u001b[0mreduction\u001b[0m \u001b[0;34m=\u001b[0m \u001b[0m_Reduction\u001b[0m\u001b[0;34m.\u001b[0m\u001b[0mlegacy_get_string\u001b[0m\u001b[0;34m(\u001b[0m\u001b[0msize_average\u001b[0m\u001b[0;34m,\u001b[0m \u001b[0mreduce\u001b[0m\u001b[0;34m)\u001b[0m\u001b[0;34m\u001b[0m\u001b[0;34m\u001b[0m\u001b[0m\n\u001b[1;32m   3293\u001b[0m \u001b[0;34m\u001b[0m\u001b[0m\n\u001b[0;32m-> 3294\u001b[0;31m     \u001b[0mexpanded_input\u001b[0m\u001b[0;34m,\u001b[0m \u001b[0mexpanded_target\u001b[0m \u001b[0;34m=\u001b[0m \u001b[0mtorch\u001b[0m\u001b[0;34m.\u001b[0m\u001b[0mbroadcast_tensors\u001b[0m\u001b[0;34m(\u001b[0m\u001b[0minput\u001b[0m\u001b[0;34m,\u001b[0m \u001b[0mtarget\u001b[0m\u001b[0;34m)\u001b[0m\u001b[0;34m\u001b[0m\u001b[0;34m\u001b[0m\u001b[0m\n\u001b[0m\u001b[1;32m   3295\u001b[0m     \u001b[0;32mreturn\u001b[0m \u001b[0mtorch\u001b[0m\u001b[0;34m.\u001b[0m\u001b[0m_C\u001b[0m\u001b[0;34m.\u001b[0m\u001b[0m_nn\u001b[0m\u001b[0;34m.\u001b[0m\u001b[0mmse_loss\u001b[0m\u001b[0;34m(\u001b[0m\u001b[0mexpanded_input\u001b[0m\u001b[0;34m,\u001b[0m \u001b[0mexpanded_target\u001b[0m\u001b[0;34m,\u001b[0m \u001b[0m_Reduction\u001b[0m\u001b[0;34m.\u001b[0m\u001b[0mget_enum\u001b[0m\u001b[0;34m(\u001b[0m\u001b[0mreduction\u001b[0m\u001b[0;34m)\u001b[0m\u001b[0;34m)\u001b[0m\u001b[0;34m\u001b[0m\u001b[0;34m\u001b[0m\u001b[0m\n\u001b[1;32m   3296\u001b[0m \u001b[0;34m\u001b[0m\u001b[0m\n",
            "\u001b[0;32m/usr/local/lib/python3.10/dist-packages/torch/functional.py\u001b[0m in \u001b[0;36mbroadcast_tensors\u001b[0;34m(*tensors)\u001b[0m\n\u001b[1;32m     72\u001b[0m     \u001b[0;32mif\u001b[0m \u001b[0mhas_torch_function\u001b[0m\u001b[0;34m(\u001b[0m\u001b[0mtensors\u001b[0m\u001b[0;34m)\u001b[0m\u001b[0;34m:\u001b[0m\u001b[0;34m\u001b[0m\u001b[0;34m\u001b[0m\u001b[0m\n\u001b[1;32m     73\u001b[0m         \u001b[0;32mreturn\u001b[0m \u001b[0mhandle_torch_function\u001b[0m\u001b[0;34m(\u001b[0m\u001b[0mbroadcast_tensors\u001b[0m\u001b[0;34m,\u001b[0m \u001b[0mtensors\u001b[0m\u001b[0;34m,\u001b[0m \u001b[0;34m*\u001b[0m\u001b[0mtensors\u001b[0m\u001b[0;34m)\u001b[0m\u001b[0;34m\u001b[0m\u001b[0;34m\u001b[0m\u001b[0m\n\u001b[0;32m---> 74\u001b[0;31m     \u001b[0;32mreturn\u001b[0m \u001b[0m_VF\u001b[0m\u001b[0;34m.\u001b[0m\u001b[0mbroadcast_tensors\u001b[0m\u001b[0;34m(\u001b[0m\u001b[0mtensors\u001b[0m\u001b[0;34m)\u001b[0m  \u001b[0;31m# type: ignore[attr-defined]\u001b[0m\u001b[0;34m\u001b[0m\u001b[0;34m\u001b[0m\u001b[0m\n\u001b[0m\u001b[1;32m     75\u001b[0m \u001b[0;34m\u001b[0m\u001b[0m\n\u001b[1;32m     76\u001b[0m \u001b[0;34m\u001b[0m\u001b[0m\n",
            "\u001b[0;31mKeyboardInterrupt\u001b[0m: "
          ]
        }
      ],
      "source": [
        "# Training loop\n",
        "num_epochs = 10\n",
        "for epoch in range(num_epochs):\n",
        "    NN_model.train()\n",
        "    for inputs, targets in train_loader:\n",
        "        targets = targets.unsqueeze(dim=1)\n",
        "        outputs = NN_model(inputs)\n",
        "        loss = criterion(outputs, targets)\n",
        "        optimizer.zero_grad()\n",
        "        loss.backward()\n",
        "        optimizer.step()\n",
        "\n",
        "# Evaluation on the test set using RMSE\n",
        "NN_model.eval()\n",
        "with torch.no_grad():\n",
        "    rmse_sum = 0.0\n",
        "    num_samples = 0\n",
        "    for inputs, targets in train_loader:\n",
        "        targets = targets.unsqueeze(dim=1)\n",
        "        test_outputs = NN_model(inputs)\n",
        "        test_loss = criterion(test_outputs, targets)\n",
        "        print(test_loss)\n",
        "        rmse_sum += torch.sqrt(test_loss).item()  # Take the square root for RMSE\n",
        "        # rmse_sum += test_loss\n",
        "        num_samples += len(targets)\n",
        "\n",
        "rmse_test = rmse_sum / num_samples\n",
        "print(f'Root Mean Squared Error on Test Set: {rmse_test}')"
      ]
    }
  ],
  "metadata": {
    "colab": {
      "provenance": []
    },
    "kernelspec": {
      "display_name": "Python 3",
      "language": "python",
      "name": "python3"
    },
    "language_info": {
      "codemirror_mode": {
        "name": "ipython",
        "version": 3
      },
      "file_extension": ".py",
      "mimetype": "text/x-python",
      "name": "python",
      "nbconvert_exporter": "python",
      "pygments_lexer": "ipython3",
      "version": "3.6.4"
    }
  },
  "nbformat": 4,
  "nbformat_minor": 0
}